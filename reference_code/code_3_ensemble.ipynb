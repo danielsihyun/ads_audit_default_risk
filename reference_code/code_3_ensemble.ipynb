{
  "cells": [
    {
      "cell_type": "code",
      "execution_count": null,
      "metadata": {
        "id": "rcK5YgiY5Ijn"
      },
      "outputs": [],
      "source": [
        "# libraries\n",
        "import pandas as pd\n",
        "import numpy as np\n",
        "\n",
        "from scipy.stats import rankdata"
      ]
    },
    {
      "cell_type": "code",
      "execution_count": null,
      "metadata": {
        "id": "50JOk66W5Ijp"
      },
      "outputs": [],
      "source": [
        "# import data\n",
        "a = pd.read_csv(\"../submissions/rmean_top10.csv\")\n",
        "b = pd.read_csv(\"../submissions/auc792264_bag_lgb_top500.csv\")"
      ]
    },
    {
      "cell_type": "code",
      "execution_count": null,
      "metadata": {
        "id": "JLAS7hDX5Ijp"
      },
      "outputs": [],
      "source": [
        "# rank mean\n",
        "a[\"TARGET\"] = rankdata(a.TARGET) + rankdata(b.TARGET)"
      ]
    },
    {
      "cell_type": "code",
      "execution_count": null,
      "metadata": {
        "id": "3Xlj6fJs5Ijp"
      },
      "outputs": [],
      "source": [
        "# scaling\n",
        "a[\"TARGET\"] = (a.TARGET - a.TARGET.min()) / (a.TARGET.max() - a.TARGET.min())"
      ]
    },
    {
      "cell_type": "code",
      "execution_count": null,
      "metadata": {
        "id": "VR0ygMmt5Ijq",
        "outputId": "d0f6f24a-ed56-490f-fc88-21b91955efc9"
      },
      "outputs": [
        {
          "data": {
            "text/plain": [
              "SignificanceResult(statistic=0.994686413831608, pvalue=0.0)"
            ]
          },
          "execution_count": 8,
          "metadata": {},
          "output_type": "execute_result"
        }
      ],
      "source": [
        "# check rank correlation with the best submission\n",
        "from scipy.stats import spearmanr\n",
        "best = pd.read_csv(\"../submissions/rmean_top10.csv\")\n",
        "spearmanr(a.TARGET, best.TARGET)"
      ]
    },
    {
      "cell_type": "code",
      "execution_count": null,
      "metadata": {
        "id": "Lpts0usc5Ijq"
      },
      "outputs": [],
      "source": [
        "# export CSV\n",
        "a.to_csv(\"../submissions/rmean_ensemble.csv\", index = False, float_format = \"%.8f\")"
      ]
    }
  ],
  "metadata": {
    "kernelspec": {
      "display_name": "Python 3 (ipykernel)",
      "language": "python",
      "name": "python3"
    },
    "language_info": {
      "codemirror_mode": {
        "name": "ipython",
        "version": 3
      },
      "file_extension": ".py",
      "mimetype": "text/x-python",
      "name": "python",
      "nbconvert_exporter": "python",
      "pygments_lexer": "ipython3",
      "version": "3.11.7"
    },
    "colab": {
      "provenance": []
    }
  },
  "nbformat": 4,
  "nbformat_minor": 0
}